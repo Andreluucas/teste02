{
  "nbformat": 4,
  "nbformat_minor": 0,
  "metadata": {
    "colab": {
      "name": "exemplo_01.ipynb",
      "provenance": [],
      "collapsed_sections": [],
      "authorship_tag": "ABX9TyPr3CWTY+4nM1rU/zUNis+o",
      "include_colab_link": true
    },
    "kernelspec": {
      "name": "python3",
      "display_name": "Python 3"
    }
  },
  "cells": [
    {
      "cell_type": "markdown",
      "metadata": {
        "id": "view-in-github",
        "colab_type": "text"
      },
      "source": [
        "<a href=\"https://colab.research.google.com/github/Andreluucas/teste02/blob/master/exemplo_01.ipynb\" target=\"_parent\"><img src=\"https://colab.research.google.com/assets/colab-badge.svg\" alt=\"Open In Colab\"/></a>"
      ]
    },
    {
      "cell_type": "code",
      "metadata": {
        "id": "zfjESYE69gTY",
        "colab_type": "code",
        "colab": {
          "base_uri": "https://localhost:8080/",
          "height": 51
        },
        "outputId": "e8f1128e-fee1-42d6-9050-fe93c6e986e9"
      },
      "source": [
        "### isto é um comando de saida \n",
        "print('Ola mundo cruel!!!')\n",
        "print('Cruel word!!!')\n",
        "\n",
        "\n",
        "# a hastag é um comentário no código, ou seja, o programa não irá processar nenhuma linha que estiver marcada\n",
        "# o comando print() mostra na tela, ou seja, é uma saída de valor(es). \n",
        "# O conteúdo texto deve estar entre aspas (simples ou dupla)"
      ],
      "execution_count": 1,
      "outputs": [
        {
          "output_type": "stream",
          "text": [
            "Ola mundo cruel!!!\n",
            "Cruel word!!!\n"
          ],
          "name": "stdout"
        }
      ]
    },
    {
      "cell_type": "code",
      "metadata": {
        "id": "k1Ff4dz5Elfs",
        "colab_type": "code",
        "colab": {}
      },
      "source": [
        ""
      ],
      "execution_count": null,
      "outputs": []
    }
  ]
}